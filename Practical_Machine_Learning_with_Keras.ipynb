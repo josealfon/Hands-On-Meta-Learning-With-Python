{
  "nbformat": 4,
  "nbformat_minor": 0,
  "metadata": {
    "colab": {
      "name": "Practical Machine Learning with Keras.ipynb",
      "provenance": [],
      "collapsed_sections": [],
      "include_colab_link": true
    },
    "kernelspec": {
      "name": "python3",
      "display_name": "Python 3"
    },
    "accelerator": "GPU"
  },
  "cells": [
    {
      "cell_type": "markdown",
      "metadata": {
        "id": "view-in-github",
        "colab_type": "text"
      },
      "source": [
        "<a href=\"https://colab.research.google.com/github/josealfon/Hands-On-Meta-Learning-With-Python/blob/master/Practical_Machine_Learning_with_Keras.ipynb\" target=\"_parent\"><img src=\"https://colab.research.google.com/assets/colab-badge.svg\" alt=\"Open In Colab\"/></a>"
      ]
    },
    {
      "cell_type": "markdown",
      "metadata": {
        "id": "wcL3bgdvO-C1",
        "colab_type": "text"
      },
      "source": [
        "# Imports and Loading Data"
      ]
    },
    {
      "cell_type": "code",
      "metadata": {
        "id": "gCvAsiFMUxFy",
        "colab_type": "code",
        "outputId": "16126879-8c7f-4bd1-d9fb-f3e45052039f",
        "colab": {
          "base_uri": "https://localhost:8080/",
          "height": 50
        }
      },
      "source": [
        "# for compatibility\n",
        "from __future__ import absolute_import, division, print_function, unicode_literals\n",
        "\n",
        "import tensorflow as tf\n",
        "from tensorflow.keras import layers\n",
        "\n",
        "# Converts a class vector (integers) to binary class matrix.\n",
        "from tensorflow.keras.utils import to_categorical\n",
        "import numpy as np\n",
        "\n",
        "print(tf.VERSION)\n",
        "print(tf.keras.__version__)"
      ],
      "execution_count": 0,
      "outputs": [
        {
          "output_type": "stream",
          "text": [
            "1.14.0-rc1\n",
            "2.2.4-tf\n"
          ],
          "name": "stdout"
        }
      ]
    },
    {
      "cell_type": "code",
      "metadata": {
        "id": "94-7UR-_VhFx",
        "colab_type": "code",
        "outputId": "9b055654-7aca-4a65-85bd-e0c869a36ac3",
        "colab": {
          "base_uri": "https://localhost:8080/",
          "height": 34
        }
      },
      "source": [
        "(train_data, train_labels), (test_data, test_labels) = tf.keras.datasets.mnist.load_data()\n",
        "print('Original shape: ',train_data.shape, train_labels.shape, test_data.shape, test_labels.shape)"
      ],
      "execution_count": 0,
      "outputs": [
        {
          "output_type": "stream",
          "text": [
            "Original shape:  (60000, 28, 28) (60000,) (10000, 28, 28) (10000,)\n"
          ],
          "name": "stdout"
        }
      ]
    },
    {
      "cell_type": "code",
      "metadata": {
        "id": "LftPhgRIWK8Y",
        "colab_type": "code",
        "outputId": "60d3137a-af94-43be-864d-36d2d1a5c91f",
        "colab": {
          "base_uri": "https://localhost:8080/",
          "height": 34
        }
      },
      "source": [
        "train_data = train_data.reshape(-1, 28, 28, 1)\n",
        "test_data = test_data.reshape(-1, 28,28, 1)\n",
        "\n",
        "# Normalize the data\n",
        "train_data = train_data.astype('float32')/255\n",
        "test_data = test_data.astype('float32')/255\n",
        "\n",
        "print('After reshape and normalize: ',train_data.shape, test_data.shape, train_labels.shape, test_labels.shape)"
      ],
      "execution_count": 0,
      "outputs": [
        {
          "output_type": "stream",
          "text": [
            "After reshape and normalize:  (60000, 28, 28, 1) (10000, 28, 28, 1) (60000,) (10000,)\n"
          ],
          "name": "stdout"
        }
      ]
    },
    {
      "cell_type": "code",
      "metadata": {
        "id": "iK0jKHRtLCV8",
        "colab_type": "code",
        "outputId": "d7129555-8710-4948-d1d8-f23982529110",
        "colab": {
          "base_uri": "https://localhost:8080/",
          "height": 281
        }
      },
      "source": [
        "# Plot the 1st train data with it's label\n",
        "import matplotlib.pyplot as plt\n",
        "\n",
        "plt.figure()\n",
        "plt.imshow(np.squeeze(train_data[0]), cmap='gray')\n",
        "plt.title('Number: {}'.format(train_labels[0]), color='magenta')\n",
        "plt.axis('off')\n",
        "plt.show()"
      ],
      "execution_count": 0,
      "outputs": [
        {
          "output_type": "display_data",
          "data": {
            "image/png": "[encoded data removed]",
            "text/plain": [
              "<Figure size 432x288 with 1 Axes>"
            ]
          },
          "metadata": {
            "tags": []
          }
        }
      ]
    },
    {
      "cell_type": "code",
      "metadata": {
        "id": "K3Hfy_QSbG6w",
        "colab_type": "code",
        "outputId": "90fcd76d-49fb-4691-8190-e2d9b8dfa712",
        "colab": {
          "base_uri": "https://localhost:8080/",
          "height": 34
        }
      },
      "source": [
        "# This will and a column corresponding to 0-9 digits\n",
        "# and put 1 in the appropiate column for the each label, 0 in the other ones\n",
        "train_labels = to_categorical(train_labels)\n",
        "test_labels = to_categorical(test_labels)\n",
        "\n",
        "print(train_data.shape, test_data.shape, train_labels.shape, test_labels.shape)"
      ],
      "execution_count": 0,
      "outputs": [
        {
          "output_type": "stream",
          "text": [
            "(60000, 28, 28, 1) (10000, 28, 28, 1) (60000, 10) (10000, 10)\n"
          ],
          "name": "stdout"
        }
      ]
    },
    {
      "cell_type": "markdown",
      "metadata": {
        "id": "6Fqut_6BO17j",
        "colab_type": "text"
      },
      "source": [
        "# Sequential Model"
      ]
    },
    {
      "cell_type": "code",
      "metadata": {
        "id": "lyX1aM7jWypp",
        "colab_type": "code",
        "outputId": "7a96b410-6be2-462d-c73a-6e11f0913bc1",
        "colab": {
          "base_uri": "https://localhost:8080/",
          "height": 104
        }
      },
      "source": [
        "# define a sequential model\n",
        "model = tf.keras.Sequential()\n",
        "\n",
        "# adding layers to the model\n",
        "model.add(layers.Dense(64, activation='relu'))\n",
        "# add another one of fully connected layer\n",
        "model.add(layers.Dense(64, activation='relu'))\n",
        "# try different activation for the classification layer, like softmax\n",
        "model.add(layers.Dense(10, activation='softmax'))"
      ],
      "execution_count": 0,
      "outputs": [
        {
          "output_type": "stream",
          "text": [
            "WARNING: Logging before flag parsing goes to stderr.\n",
            "W0628 10:23:11.161536 139704221480832 deprecation.py:506] From /usr/local/lib/python3.6/dist-packages/tensorflow/python/ops/init_ops.py:1251: calling VarianceScaling.__init__ (from tensorflow.python.ops.init_ops) with dtype is deprecated and will be removed in a future version.\n",
            "Instructions for updating:\n",
            "Call initializer instance with the dtype argument instead of passing it to the constructor\n"
          ],
          "name": "stderr"
        }
      ]
    },
    {
      "cell_type": "code",
      "metadata": {
        "id": "e3mjjLzFX_KM",
        "colab_type": "code",
        "outputId": "09949a1c-e630-476b-fe0a-101fc1e1e96e",
        "colab": {
          "base_uri": "https://localhost:8080/",
          "height": 104
        }
      },
      "source": [
        "# Create a sigmoid layer:\n",
        "layers.Dense(64, activation='sigmoid')\n",
        "# Or:\n",
        "layers.Dense(64, activation=tf.sigmoid)\n",
        "\n",
        "# A linear layer with L1 regularization of factor 0.01 applied to the kernel matrix:\n",
        "layers.Dense(64, kernel_regularizer=tf.keras.regularizers.l1(0.01))\n",
        "\n",
        "# A linear layer with L2 regularization of factor 0.01 applied to the bias vector:\n",
        "layers.Dense(64, bias_regularizer=tf.keras.regularizers.l2(0.01))\n",
        "\n",
        "# Initializer that generates tensors with a normal distribution:\n",
        "layers.Dense(64, kernel_initializer='random_normal')\n",
        "\n",
        "# A linear layer with a bias vector initialized to 2.0s:\n",
        "layers.Dense(64, bias_initializer=tf.keras.initializers.constant(2.0))"
      ],
      "execution_count": 0,
      "outputs": [
        {
          "output_type": "stream",
          "text": [
            "W0628 10:23:11.190575 139704221480832 deprecation.py:506] From /usr/local/lib/python3.6/dist-packages/tensorflow/python/keras/initializers.py:143: calling RandomNormal.__init__ (from tensorflow.python.ops.init_ops) with dtype is deprecated and will be removed in a future version.\n",
            "Instructions for updating:\n",
            "Call initializer instance with the dtype argument instead of passing it to the constructor\n"
          ],
          "name": "stderr"
        },
        {
          "output_type": "execute_result",
          "data": {
            "text/plain": [
              "<tensorflow.python.keras.layers.core.Dense at 0x7f0f23665c88>"
            ]
          },
          "metadata": {
            "tags": []
          },
          "execution_count": 7
        }
      ]
    },
    {
      "cell_type": "code",
      "metadata": {
        "id": "8ZTBH3iiZK0E",
        "colab_type": "code",
        "colab": {}
      },
      "source": [
        "# another way to defining the model instead of writing model.add everytime\n",
        "# Let's create the model to classify the MNIST data\n",
        "model = tf.keras.Sequential([\n",
        "    # This is not using a Dense layer, rather this is a Convolutional layer\n",
        "    layers.Conv2D(filters=32, kernel_size=(3,3), activation='relu', input_shape=(28,28,1)),\n",
        "    # This is a Max Pooling layer\n",
        "    layers.MaxPooling2D(pool_size=(2,2)),\n",
        "    layers.Conv2D(filters=64, kernel_size=(3,3), activation='relu'),\n",
        "    layers.MaxPooling2D(pool_size=(2,2)),\n",
        "    layers.Conv2D(filters=64, kernel_size=(3,3), activation='relu'),\n",
        "    # This layer flattens the output of the conv layers to a long vector\n",
        "    layers.Flatten(),\n",
        "    layers.Dense(64, activation='relu'),\n",
        "    layers.Dense(10, activation='softmax')\n",
        "])"
      ],
      "execution_count": 0,
      "outputs": []
    },
    {
      "cell_type": "code",
      "metadata": {
        "id": "19pfLlWLaM-D",
        "colab_type": "code",
        "outputId": "6d936080-85ab-4d9e-fbf6-65091bdda112",
        "colab": {
          "base_uri": "https://localhost:8080/",
          "height": 420
        }
      },
      "source": [
        "model.summary()"
      ],
      "execution_count": 0,
      "outputs": [
        {
          "output_type": "stream",
          "text": [
            "Model: \"sequential_1\"\n",
            "_________________________________________________________________\n",
            "Layer (type)                 Output Shape              Param #   \n",
            "=================================================================\n",
            "conv2d (Conv2D)              (None, 26, 26, 32)        320       \n",
            "_________________________________________________________________\n",
            "max_pooling2d (MaxPooling2D) (None, 13, 13, 32)        0         \n",
            "_________________________________________________________________\n",
            "conv2d_1 (Conv2D)            (None, 11, 11, 64)        18496     \n",
            "_________________________________________________________________\n",
            "max_pooling2d_1 (MaxPooling2 (None, 5, 5, 64)          0         \n",
            "_________________________________________________________________\n",
            "conv2d_2 (Conv2D)            (None, 3, 3, 64)          36928     \n",
            "_________________________________________________________________\n",
            "flatten (Flatten)            (None, 576)               0         \n",
            "_________________________________________________________________\n",
            "dense_9 (Dense)              (None, 64)                36928     \n",
            "_________________________________________________________________\n",
            "dense_10 (Dense)             (None, 10)                650       \n",
            "=================================================================\n",
            "Total params: 93,322\n",
            "Trainable params: 93,322\n",
            "Non-trainable params: 0\n",
            "_________________________________________________________________\n"
          ],
          "name": "stdout"
        }
      ]
    },
    {
      "cell_type": "code",
      "metadata": {
        "id": "OB5FQEGGaSFj",
        "colab_type": "code",
        "colab": {}
      },
      "source": [
        "# We can configure the model training in a variety of ways\n",
        "model.compile(optimizer=tf.train.AdamOptimizer(0.01),\n",
        "             loss='categorical_crossentropy',\n",
        "             metrics=['accuracy'])\n",
        "\n",
        "# Configure a model for categorical classification.\n",
        "model.compile(optimizer=tf.train.RMSPropOptimizer(0.01),\n",
        "             loss=tf.keras.losses.categorical_crossentropy,\n",
        "             metrics=[tf.keras.metrics.categorical_accuracy])\n",
        "\n",
        "# Configure a model for mean-squared error regression.\n",
        "model.compile(optimizer=tf.train.AdamOptimizer(0.01),\n",
        "              loss='mse',       # mean squared error\n",
        "              metrics=['mae'])  # mean absolute error\n",
        "\n",
        "# We will using the last one\n",
        "# We are calling the optimizer by name\n",
        "model.compile(optimizer='adam', # this will use the default learning rate of 0.001\n",
        "             loss='categorical_crossentropy',\n",
        "             metrics=['accuracy'])"
      ],
      "execution_count": 0,
      "outputs": []
    },
    {
      "cell_type": "code",
      "metadata": {
        "id": "1iiWHF-GdzC9",
        "colab_type": "code",
        "outputId": "e5b76692-a8d7-4527-95e8-62e66314867a",
        "colab": {
          "base_uri": "https://localhost:8080/",
          "height": 218
        }
      },
      "source": [
        "model.fit(train_data,\n",
        "          train_labels,\n",
        "          epochs=5,\n",
        "          batch_size=32,\n",
        "          validation_data=(test_data, test_labels))"
      ],
      "execution_count": 0,
      "outputs": [
        {
          "output_type": "stream",
          "text": [
            "Train on 60000 samples, validate on 10000 samples\n",
            "Epoch 1/5\n",
            "60000/60000 [==============================] - 9s 152us/sample - loss: 0.1395 - acc: 0.9574 - val_loss: 0.0592 - val_acc: 0.9816\n",
            "Epoch 2/5\n",
            "60000/60000 [==============================] - 7s 120us/sample - loss: 0.0456 - acc: 0.9855 - val_loss: 0.0348 - val_acc: 0.9889\n",
            "Epoch 3/5\n",
            "60000/60000 [==============================] - 7s 120us/sample - loss: 0.0332 - acc: 0.9895 - val_loss: 0.0304 - val_acc: 0.9910\n",
            "Epoch 4/5\n",
            "60000/60000 [==============================] - 7s 120us/sample - loss: 0.0244 - acc: 0.9926 - val_loss: 0.0331 - val_acc: 0.9904\n",
            "Epoch 5/5\n",
            "60000/60000 [==============================] - 7s 120us/sample - loss: 0.0201 - acc: 0.9937 - val_loss: 0.0311 - val_acc: 0.9913\n"
          ],
          "name": "stdout"
        },
        {
          "output_type": "execute_result",
          "data": {
            "text/plain": [
              "<tensorflow.python.keras.callbacks.History at 0x7f0f201ebc18>"
            ]
          },
          "metadata": {
            "tags": []
          },
          "execution_count": 11
        }
      ]
    },
    {
      "cell_type": "code",
      "metadata": {
        "id": "tT2qgTKOJEmt",
        "colab_type": "code",
        "outputId": "8a496415-48bd-4acb-d0ee-ffbd83885b98",
        "colab": {
          "base_uri": "https://localhost:8080/",
          "height": 34
        }
      },
      "source": [
        "# Make Predictions\n",
        "results = model.predict(test_data)\n",
        "print('Prediction shape: ', results.shape)"
      ],
      "execution_count": 0,
      "outputs": [
        {
          "output_type": "stream",
          "text": [
            "Prediction shape:  (10000, 10)\n"
          ],
          "name": "stdout"
        }
      ]
    },
    {
      "cell_type": "code",
      "metadata": {
        "id": "fwwvkH2_Hbp3",
        "colab_type": "code",
        "outputId": "b1567b4d-f771-4954-a969-994eef693ff1",
        "colab": {
          "base_uri": "https://localhost:8080/",
          "height": 67
        }
      },
      "source": [
        "# Evaluate the model\n",
        "print('Model evaluation: ')\n",
        "model.evaluate(test_data, test_labels, batch_size=32)"
      ],
      "execution_count": 0,
      "outputs": [
        {
          "output_type": "stream",
          "text": [
            "Model evaluation: \n",
            "10000/10000 [==============================] - 1s 62us/sample - loss: 0.0311 - acc: 0.9913\n"
          ],
          "name": "stdout"
        },
        {
          "output_type": "execute_result",
          "data": {
            "text/plain": [
              "[0.031130135284434073, 0.9913]"
            ]
          },
          "metadata": {
            "tags": []
          },
          "execution_count": 13
        }
      ]
    },
    {
      "cell_type": "code",
      "metadata": {
        "id": "Y7_AUJmTWsMz",
        "colab_type": "code",
        "outputId": "b632c0fa-fbbe-4ba4-9034-a7a2b38f51c7",
        "colab": {
          "base_uri": "https://localhost:8080/",
          "height": 281
        }
      },
      "source": [
        "def check_pred(index):\n",
        "  # Testing the prediction for the 1st number\n",
        "  plt.figure()\n",
        "  plt.imshow(np.squeeze(test_data[index]), cmap='gray')\n",
        "  # We are using np.argmax since the labels are in categorical form\n",
        "  plt.title('Number: {}'.format(np.argmax(results[index])), color='magenta')\n",
        "  plt.axis('off')\n",
        "  plt.show()\n",
        "  \n",
        "# check the prediction for the 0th test example\n",
        "check_pred(0)"
      ],
      "execution_count": 0,
      "outputs": [
        {
          "output_type": "display_data",
          "data": {
            "image/png": "[encoded data removed]",
            "text/plain": [
              "<Figure size 432x288 with 1 Axes>"
            ]
          },
          "metadata": {
            "tags": []
          }
        }
      ]
    },
    {
      "cell_type": "markdown",
      "metadata": {
        "id": "nYWGaihiKo4A",
        "colab_type": "text"
      },
      "source": [
        "# Functional API"
      ]
    },
    {
      "cell_type": "code",
      "metadata": {
        "id": "1kKzh6VXKtf4",
        "colab_type": "code",
        "colab": {}
      },
      "source": [
        "# Make an input tensor\n",
        "inputs = tf.keras.Input(shape=(28,28,1))\n",
        "\n",
        "# A layer instance is callable on a tensor, and returns a tensor.\n",
        "x = layers.Conv2D(filters=32, kernel_size=(3,3), strides=2, activation='relu')(inputs)\n",
        "# We have to provide the input for each layer manually\n",
        "# This is how we can make arbitrary connections\n",
        "x = layers.Conv2D(filters=64, kernel_size=(3,3),strides= 2, activation='relu')(x)\n",
        "# Notice how we are using the same variable x, as python performs the operation first then the assignment\n",
        "x = layers.Conv2D(filters=64, kernel_size=(3,3),strides=2, padding='same', activation='relu')(x)\n",
        "x = layers.Flatten()(x)\n",
        "x = layers.Dense(128, activation='relu')(x)\n",
        "# This is the output tensor\n",
        "preds = layers.Dense(10, activation='softmax')(x)"
      ],
      "execution_count": 0,
      "outputs": []
    },
    {
      "cell_type": "code",
      "metadata": {
        "id": "amMfusANMI7m",
        "colab_type": "code",
        "colab": {}
      },
      "source": [
        "# Now we pass the input and output tensors to the tf.keras.Model instance\n",
        "model = tf.keras.Model(inputs=inputs, outputs=preds)"
      ],
      "execution_count": 0,
      "outputs": []
    },
    {
      "cell_type": "code",
      "metadata": {
        "id": "ZCpCv9q6Mgs_",
        "colab_type": "code",
        "colab": {}
      },
      "source": [
        "# Compile\n",
        "model.compile(optimizer=tf.train.AdamOptimizer(learning_rate=0.001),\n",
        "             loss=tf.keras.losses.categorical_crossentropy,\n",
        "             metrics=['accuracy'])"
      ],
      "execution_count": 0,
      "outputs": []
    },
    {
      "cell_type": "code",
      "metadata": {
        "id": "aIBq0bYSNCq4",
        "colab_type": "code",
        "outputId": "3d811435-c9e0-41ec-bcc2-790f406f229f",
        "colab": {
          "base_uri": "https://localhost:8080/",
          "height": 202
        }
      },
      "source": [
        "# Train\n",
        "model.fit(train_data, train_labels, batch_size=32, epochs=5)"
      ],
      "execution_count": 0,
      "outputs": [
        {
          "output_type": "stream",
          "text": [
            "Epoch 1/5\n",
            "60000/60000 [==============================] - 6s 106us/sample - loss: 0.1637 - acc: 0.9503\n",
            "Epoch 2/5\n",
            "60000/60000 [==============================] - 6s 104us/sample - loss: 0.0567 - acc: 0.9824\n",
            "Epoch 3/5\n",
            "60000/60000 [==============================] - 6s 104us/sample - loss: 0.0377 - acc: 0.9880\n",
            "Epoch 4/5\n",
            "60000/60000 [==============================] - 6s 104us/sample - loss: 0.0288 - acc: 0.9905\n",
            "Epoch 5/5\n",
            "60000/60000 [==============================] - 6s 103us/sample - loss: 0.0220 - acc: 0.9924\n"
          ],
          "name": "stdout"
        },
        {
          "output_type": "execute_result",
          "data": {
            "text/plain": [
              "<tensorflow.python.keras.callbacks.History at 0x7f0f2372ce80>"
            ]
          },
          "metadata": {
            "tags": []
          },
          "execution_count": 18
        }
      ]
    },
    {
      "cell_type": "code",
      "metadata": {
        "id": "EF3w0XkTOgcr",
        "colab_type": "code",
        "outputId": "4e8e1297-845e-404c-e3d4-cc77499316cf",
        "colab": {
          "base_uri": "https://localhost:8080/",
          "height": 50
        }
      },
      "source": [
        "# Evaluate\n",
        "model.evaluate(test_data, test_labels)"
      ],
      "execution_count": 0,
      "outputs": [
        {
          "output_type": "stream",
          "text": [
            "10000/10000 [==============================] - 1s 71us/sample - loss: 0.0384 - acc: 0.9877\n"
          ],
          "name": "stdout"
        },
        {
          "output_type": "execute_result",
          "data": {
            "text/plain": [
              "[0.03841769770964747, 0.9877]"
            ]
          },
          "metadata": {
            "tags": []
          },
          "execution_count": 19
        }
      ]
    },
    {
      "cell_type": "code",
      "metadata": {
        "id": "zLDy5sFrY_v7",
        "colab_type": "code",
        "outputId": "bb2ee90e-2eb3-4365-88dd-f8e2c664ffc1",
        "colab": {
          "base_uri": "https://localhost:8080/",
          "height": 281
        }
      },
      "source": [
        "# check the prediction for the 1st test example\n",
        "check_pred(1)"
      ],
      "execution_count": 0,
      "outputs": [
        {
          "output_type": "display_data",
          "data": {
            "image/png": "[encoded data removed]",
            "text/plain": [
              "<Figure size 432x288 with 1 Axes>"
            ]
          },
          "metadata": {
            "tags": []
          }
        }
      ]
    },
    {
      "cell_type": "markdown",
      "metadata": {
        "id": "iwjWgMt0OwAq",
        "colab_type": "text"
      },
      "source": [
        "# Model Subclassing"
      ]
    },
    {
      "cell_type": "code",
      "metadata": {
        "id": "9HvIpdwQOy_M",
        "colab_type": "code",
        "colab": {}
      },
      "source": [
        "class MyModel(tf.keras.Model):\n",
        "  def __init__(self, num_classes):\n",
        "    super(MyModel, self).__init__(name='my_model')\n",
        "    self.num_classes = num_classes\n",
        "    # Defining the layers\n",
        "    self.conv_1 = layers.Conv2D(filters=32, kernel_size=(3,3), activation='relu', input_shape=(28,28,1))\n",
        "    self.maxpool_1 = layers.MaxPooling2D(pool_size=(2,2))\n",
        "    self.conv_2 = layers.Conv2D(filters=64, kernel_size=(3,3), activation='relu')\n",
        "    self.maxpool_2 = layers.MaxPooling2D(pool_size=(2,2))\n",
        "    self.conv_3 = layers.Conv2D(filters=128, kernel_size=(3,3), activation='relu')\n",
        "    self.flat = layers.Flatten()\n",
        "    self.dense_1 = layers.Dense(64, activation='relu')\n",
        "    self.dense_2 = layers.Dense(10, activation='softmax')\n",
        "    \n",
        "  def call(self, inputs):\n",
        "    # In this method we define our forward pass using layers created in init\n",
        "    x = self.conv_1(inputs)\n",
        "    x = self.maxpool_1(x)\n",
        "    x = self.conv_2(x)\n",
        "    x = self.maxpool_2(x)\n",
        "    x = self.conv_3(x)\n",
        "    x = self.flat(x)\n",
        "    x = self.dense_1(x)\n",
        "    return self.dense_2(x)\n",
        "  \n",
        "  def compute_output_shape(self, input_shape):\n",
        "    # You need to override this function if you want to use the subclassed model\n",
        "    # as part of a functional-style model.\n",
        "    # Otherwise, this method is optional.\n",
        "    shape = tf.TensorShape(input_shape).as_list()\n",
        "    shape = [shape[0], self.num_classes]\n",
        "    print(shape)\n",
        "    return tf.TensorShape(shape)"
      ],
      "execution_count": 0,
      "outputs": []
    },
    {
      "cell_type": "code",
      "metadata": {
        "id": "IVgakuhCnrlu",
        "colab_type": "code",
        "outputId": "b47791c2-7ebe-4d88-ea9d-0637873f41de",
        "colab": {
          "base_uri": "https://localhost:8080/",
          "height": 272
        }
      },
      "source": [
        "# Create the model instance\n",
        "model = MyModel(num_classes=10)\n",
        "\n",
        "# Compile\n",
        "model.compile(optimizer=tf.train.RMSPropOptimizer(0.001),\n",
        "              loss='categorical_crossentropy',\n",
        "              metrics=['accuracy'])\n",
        "\n",
        "# Trains for 5 epochs.\n",
        "model.fit(train_data, train_labels, batch_size=32, epochs=5)"
      ],
      "execution_count": 0,
      "outputs": [
        {
          "output_type": "stream",
          "text": [
            "W0628 10:24:24.928772 139704221480832 deprecation.py:506] From /usr/local/lib/python3.6/dist-packages/tensorflow/python/training/rmsprop.py:119: calling Ones.__init__ (from tensorflow.python.ops.init_ops) with dtype is deprecated and will be removed in a future version.\n",
            "Instructions for updating:\n",
            "Call initializer instance with the dtype argument instead of passing it to the constructor\n"
          ],
          "name": "stderr"
        },
        {
          "output_type": "stream",
          "text": [
            "Epoch 1/5\n",
            "60000/60000 [==============================] - 7s 109us/sample - loss: 0.2484 - acc: 0.9172\n",
            "Epoch 2/5\n",
            "60000/60000 [==============================] - 6s 108us/sample - loss: 0.0425 - acc: 0.9873\n",
            "Epoch 3/5\n",
            "60000/60000 [==============================] - 7s 112us/sample - loss: 0.0308 - acc: 0.9907\n",
            "Epoch 4/5\n",
            "60000/60000 [==============================] - 6s 106us/sample - loss: 0.0242 - acc: 0.9930\n",
            "Epoch 5/5\n",
            "60000/60000 [==============================] - 6s 106us/sample - loss: 0.0198 - acc: 0.9943\n"
          ],
          "name": "stdout"
        },
        {
          "output_type": "execute_result",
          "data": {
            "text/plain": [
              "<tensorflow.python.keras.callbacks.History at 0x7f0f4a1d2358>"
            ]
          },
          "metadata": {
            "tags": []
          },
          "execution_count": 22
        }
      ]
    },
    {
      "cell_type": "code",
      "metadata": {
        "id": "suTpbM90oT79",
        "colab_type": "code",
        "outputId": "4834d09a-41f7-407a-9b6a-bb370741fe5b",
        "colab": {
          "base_uri": "https://localhost:8080/",
          "height": 50
        }
      },
      "source": [
        "model.evaluate(test_data, test_labels)"
      ],
      "execution_count": 0,
      "outputs": [
        {
          "output_type": "stream",
          "text": [
            "10000/10000 [==============================] - 1s 73us/sample - loss: 0.0274 - acc: 0.9928\n"
          ],
          "name": "stdout"
        },
        {
          "output_type": "execute_result",
          "data": {
            "text/plain": [
              "[0.027365948004324098, 0.9928]"
            ]
          },
          "metadata": {
            "tags": []
          },
          "execution_count": 23
        }
      ]
    },
    {
      "cell_type": "code",
      "metadata": {
        "id": "ftLR54PTZPi-",
        "colab_type": "code",
        "outputId": "6ebc5e9f-4864-46ad-df2f-9c4a24ac69cb",
        "colab": {
          "base_uri": "https://localhost:8080/",
          "height": 281
        }
      },
      "source": [
        "# check the prediction for the 50th test example\n",
        "check_pred(50)"
      ],
      "execution_count": 0,
      "outputs": [
        {
          "output_type": "display_data",
          "data": {
            "image/png": "[encoded data removed]",
            "text/plain": [
              "<Figure size 432x288 with 1 Axes>"
            ]
          },
          "metadata": {
            "tags": []
          }
        }
      ]
    },
    {
      "cell_type": "markdown",
      "metadata": {
        "id": "NSYlUpAjpbLz",
        "colab_type": "text"
      },
      "source": [
        "# Callbacks"
      ]
    },
    {
      "cell_type": "code",
      "metadata": {
        "id": "kYItXJWEpeRp",
        "colab_type": "code",
        "colab": {}
      },
      "source": [
        "# Writing a learning rate reducer function, takes epoch as parameter\n",
        "def reducer(epoch):\n",
        "  # increase epoch by 1 as epochs are counted from 0\n",
        "  epoch = epoch + 1\n",
        "  if epoch<5:\n",
        "    return 0.001\n",
        "  else:\n",
        "    # the return of the scheduler must be a float\n",
        "    return 0.001 * np.exp(0.1 * (5 - epoch))\n",
        "  \n",
        "callbacks = [\n",
        "    # Stop the training if the validation loss stops improving after 3 epochs\n",
        "    tf.keras.callbacks.EarlyStopping(patience=3, monitor = 'val_loss'),\n",
        "    # Decrease the learning rate gradually if the number of epochs exceeds 5\n",
        "    tf.keras.callbacks.LearningRateScheduler(reducer)\n",
        "]"
      ],
      "execution_count": 0,
      "outputs": []
    },
    {
      "cell_type": "code",
      "metadata": {
        "id": "JZ4MkH83YDnq",
        "colab_type": "code",
        "colab": {}
      },
      "source": [
        "model.compile(optimizer='adam',\n",
        "              loss='categorical_crossentropy',\n",
        "              metrics=['accuracy'])"
      ],
      "execution_count": 0,
      "outputs": []
    },
    {
      "cell_type": "code",
      "metadata": {
        "id": "DhjhDxGSXNie",
        "colab_type": "code",
        "outputId": "5b2d2c9d-ecaa-421d-bbcb-e6119ba4febb",
        "colab": {
          "base_uri": "https://localhost:8080/",
          "height": 218
        }
      },
      "source": [
        "model.fit(train_data, train_labels, epochs=10, callbacks=callbacks,\n",
        "          validation_data=(test_data, test_labels))"
      ],
      "execution_count": 0,
      "outputs": [
        {
          "output_type": "stream",
          "text": [
            "Train on 60000 samples, validate on 10000 samples\n",
            "Epoch 1/10\n",
            "60000/60000 [==============================] - 8s 132us/sample - loss: 0.0214 - acc: 0.9937 - val_loss: 0.0455 - val_acc: 0.9874\n",
            "Epoch 2/10\n",
            "60000/60000 [==============================] - 8s 129us/sample - loss: 0.0160 - acc: 0.9949 - val_loss: 0.0291 - val_acc: 0.9910\n",
            "Epoch 3/10\n",
            "60000/60000 [==============================] - 8s 126us/sample - loss: 0.0125 - acc: 0.9961 - val_loss: 0.0590 - val_acc: 0.9848\n",
            "Epoch 4/10\n",
            "60000/60000 [==============================] - 8s 125us/sample - loss: 0.0134 - acc: 0.9961 - val_loss: 0.0318 - val_acc: 0.9918\n",
            "Epoch 5/10\n",
            "60000/60000 [==============================] - 7s 124us/sample - loss: 0.0104 - acc: 0.9966 - val_loss: 0.0405 - val_acc: 0.9908\n"
          ],
          "name": "stdout"
        },
        {
          "output_type": "execute_result",
          "data": {
            "text/plain": [
              "<tensorflow.python.keras.callbacks.History at 0x7f0ec6928860>"
            ]
          },
          "metadata": {
            "tags": []
          },
          "execution_count": 27
        }
      ]
    },
    {
      "cell_type": "code",
      "metadata": {
        "id": "uJl0oFOvYi_N",
        "colab_type": "code",
        "outputId": "6c96e609-6cf6-46d2-aa00-5dda1d34cd25",
        "colab": {
          "base_uri": "https://localhost:8080/",
          "height": 50
        }
      },
      "source": [
        "model.evaluate(test_data, test_labels)"
      ],
      "execution_count": 0,
      "outputs": [
        {
          "output_type": "stream",
          "text": [
            "10000/10000 [==============================] - 1s 68us/sample - loss: 0.0405 - acc: 0.9908\n"
          ],
          "name": "stdout"
        },
        {
          "output_type": "execute_result",
          "data": {
            "text/plain": [
              "[0.04045406457923609, 0.9908]"
            ]
          },
          "metadata": {
            "tags": []
          },
          "execution_count": 28
        }
      ]
    },
    {
      "cell_type": "code",
      "metadata": {
        "id": "gB8Qx2ogZVzU",
        "colab_type": "code",
        "outputId": "3d79586b-4e58-4a66-9e33-3a3ce23e2bed",
        "colab": {
          "base_uri": "https://localhost:8080/",
          "height": 281
        }
      },
      "source": [
        "# check the prediction for the 500th test example\n",
        "check_pred(500)"
      ],
      "execution_count": 0,
      "outputs": [
        {
          "output_type": "display_data",
          "data": {
            "image/png": "[encoded data removed]",
            "text/plain": [
              "<Figure size 432x288 with 1 Axes>"
            ]
          },
          "metadata": {
            "tags": []
          }
        }
      ]
    }
  ]
}